{
 "cells": [
  {
   "cell_type": "code",
   "execution_count": 2,
   "id": "periodic-cambodia",
   "metadata": {},
   "outputs": [],
   "source": [
    "import numpy as np\n",
    "import math\n",
    "import matplotlib.pyplot as plt\n",
    "import csv\n",
    "import random\n",
    "import pandas as pd"
   ]
  },
  {
   "cell_type": "code",
   "execution_count": 3,
   "id": "coupled-possession",
   "metadata": {},
   "outputs": [],
   "source": [
    "# Chuyển ma trận X bất kì thành array có dạng array([[],[],[],..[]])\n",
    "\n",
    "def Format1DtoND(X):\n",
    "    if type(X) == list:\n",
    "        array_X = np.array(X)\n",
    "        X_ = array_X.reshape((-1,1))\n",
    "    elif type(X) == np.ndarray and X.ndim == 1:\n",
    "        X_ = X.reshape((-1,1))\n",
    "    elif type(X) == np.ndarray and X.ndim > 1:\n",
    "        X_ = X\n",
    "    else:\n",
    "        X_ = np.array(X)\n",
    "    return X_"
   ]
  },
  {
   "cell_type": "code",
   "execution_count": 4,
   "id": "hawaiian-ethnic",
   "metadata": {},
   "outputs": [],
   "source": [
    "#argmin_{a,b}||aX+b-y|| = argmin_{a,b}||a(X/M)+b/M-y/M||\n",
    "#Làm giảm biên độ giao động của dữ liệu đưa vào\n",
    "\n",
    "def ContractionMatric(X,y):\n",
    "    \n",
    "    X = Format1DtoND(X)\n",
    "    y = np.array(y)\n",
    "    \n",
    "    norm_X = np.linalg.norm(X)\n",
    "    norm_y = np.linalg.norm(y)\n",
    "    \n",
    "    Coef_Contraction = math.sqrt(max(norm_X,norm_y))\n",
    "    X_ = 1/Coef_Contraction *X\n",
    "    y_ = 1/Coef_Contraction *y\n",
    "    \n",
    "    return X_,y_,Coef_Contraction"
   ]
  },
  {
   "cell_type": "code",
   "execution_count": 5,
   "id": "entire-aquarium",
   "metadata": {},
   "outputs": [],
   "source": [
    "# Tạo random dữ liệu\n",
    "\n",
    "def CreateData(dimesion_data,size_data =np.random.randint(100,150)):\n",
    "    \n",
    "    X = 10*np.random.randn(size_data,dimesion_data)\n",
    "    a = np.random.randn(1,dimesion_data)\n",
    "    b = random.randrange(30)\n",
    "    \n",
    "    disturb_coef = random.uniform(0.05,1)\n",
    "    disturb_matric = np.random.randn(size_data)\n",
    "    \n",
    "    y = np.dot(a,X.T)[0] +b*np.ones((size_data,1))[0] + disturb_coef*disturb_matric\n",
    "    \n",
    "    return X,y"
   ]
  },
  {
   "cell_type": "code",
   "execution_count": 6,
   "id": "geographic-season",
   "metadata": {},
   "outputs": [],
   "source": [
    "# Phân tích 1 số n_samples thành 2 số n_train, n_test\n",
    "# sao cho n_samples=n_train+n_test và n_test/n_samples=test_size(cho trước)\n",
    "\n",
    "def _validate_shuffle_split(n_samples, test_size=None, train_size=None,default_test_size=None):\n",
    "    \n",
    "    if test_size is None and train_size is None:\n",
    "        test_size = default_test_size\n",
    "\n",
    "    test_size_type = np.asarray(test_size).dtype.kind\n",
    "    train_size_type = np.asarray(train_size).dtype.kind\n",
    "\n",
    "    if test_size_type == 'f':\n",
    "        n_test = math.ceil(test_size * n_samples)\n",
    "    elif test_size_type == 'i':\n",
    "        n_test = float(test_size)\n",
    "\n",
    "    if train_size_type == 'f':\n",
    "        n_train = math.floor(train_size * n_samples)\n",
    "\n",
    "    elif train_size_type == 'i':\n",
    "        n_train = float(train_size)\n",
    "\n",
    "    if train_size is None:\n",
    "        n_train = n_samples - n_test\n",
    "\n",
    "    elif test_size is None:\n",
    "        n_test = n_samples - n_train\n",
    "\n",
    "    return n_train, n_test"
   ]
  },
  {
   "cell_type": "code",
   "execution_count": 7,
   "id": "french-jonathan",
   "metadata": {},
   "outputs": [],
   "source": [
    "# Từ 1 list [0,1,...,n_samples-1] phân tích random thành 2 tập con tách rời ind_test, ind_train\n",
    "# sao cho len(ind_test)=n_test(cho trước), len(ind_train)=n_train(cho trước)\n",
    "\n",
    "def ShuffleSplit(n_test, n_train, n_samples):\n",
    "   \n",
    "    permutation = np.random.permutation(n_samples)\n",
    "    ind_test = permutation[:n_test]\n",
    "    ind_train = permutation[n_test:(n_test + n_train)]\n",
    "    \n",
    "    return ind_test,ind_train"
   ]
  },
  {
   "cell_type": "code",
   "execution_count": 8,
   "id": "processed-committee",
   "metadata": {},
   "outputs": [],
   "source": [
    "# Từ hai array X_arrays, y_array tạo random 4 array X_train, X_test, y_train, y_test\n",
    "# sao cho len(X_train)/len(X_arrays)=len(y_train)/len(y_array)=train_size(cho trước)\n",
    "# và len(X_test)/len(X_arrays)=len(y_test)/len(y_array)=test_size(cho trước)\n",
    "\n",
    "def train_test_split(X_arrays, y_array, test_size=None, train_size=None):\n",
    "    \n",
    "    X_arrays = Format1DtoND(X_arrays)\n",
    "    y_array = np.array(y_array)\n",
    "    n_arrays = len(X_arrays)\n",
    "\n",
    "    if n_arrays == 0:\n",
    "        raise ValueError(\"At least one array required as input\")\n",
    "    else:\n",
    "        if (test_size != None) and (train_size != None):\n",
    "            if (test_size + train_size == 1):\n",
    "                Default_Test_Size = test_size\n",
    "            else:\n",
    "                raise ValueError(\"Sum size of training set and size of testing set must equal 1\")\n",
    "        elif (test_size != None) and (train_size == None):\n",
    "            Default_Test_Size = test_size\n",
    "        elif (test_size == None) and (train_size != None):\n",
    "            Default_Test_Size = 1 - train_size\n",
    "        else:\n",
    "            Default_Test_Size = 0.25\n",
    "            \n",
    "    n_samples = len(X_arrays)\n",
    "    n_train, n_test = _validate_shuffle_split(n_samples, test_size, train_size, default_test_size=Default_Test_Size) \n",
    "    ind_test,ind_train = ShuffleSplit(n_test=n_test, n_train=n_train,n_samples=n_samples)\n",
    "    \n",
    "    X_train = X_arrays[ind_train]\n",
    "    X_test = X_arrays[ind_test]\n",
    "    y_train = y_array[ind_train]\n",
    "    y_test = y_array[ind_test]\n",
    "\n",
    "    return X_train, X_test, y_train, y_test"
   ]
  },
  {
   "cell_type": "code",
   "execution_count": 9,
   "id": "fabulous-dubai",
   "metadata": {},
   "outputs": [],
   "source": [
    "# Tạo array Xbar từ array X cho trước bằng cách thêm 1 cột có các phần tử đều là số 1 vào bên trái X\n",
    "\n",
    "def LeastSquareMatricsConcatenate(X):\n",
    "    one = np.ones((X.shape[0],1))\n",
    "    Xbar = np.concatenate((one, X), axis = 1)\n",
    "    return Xbar"
   ]
  },
  {
   "cell_type": "code",
   "execution_count": 10,
   "id": "unknown-lying",
   "metadata": {},
   "outputs": [],
   "source": [
    "#Tìm gradient theo a,b của hàm cost: .5/N *||X.a+b-y|| tương đương tìm gradient theo w của hàm cost .5/N *||Xbar.w-y||\n",
    "# với w=[[b] [a]], Xbar=LeastSquareMatricsConcatenate(X)\n",
    "\n",
    "def GradientLeastSquare(X,y,w):\n",
    "    Xbar = LeastSquareMatricsConcatenate(X)\n",
    "    N = Xbar.shape[0]\n",
    "    return 1/N * Xbar.T.dot(Xbar.dot(w) - y.reshape(-1,1))"
   ]
  },
  {
   "cell_type": "code",
   "execution_count": 11,
   "id": "adolescent-binding",
   "metadata": {},
   "outputs": [],
   "source": [
    "def GradientLeastSquare_Contrac(X,y,w):\n",
    "    Xbar = LeastSquareMatricsConcatenate(X)\n",
    "    N = Xbar.shape[0]\n",
    "    D = Xbar.shape[1] - 1\n",
    "    Matrix_Contraction = np.zeros((D+1,D+1))\n",
    "    Xbar_trans = Xbar.T\n",
    "    for i in range(D+1):\n",
    "        #Matrix_Contraction[i,i] = 1/(math.sqrt(np.linalg.norm(Xbar_trans[i])))\n",
    "        Matrix_Contraction[i,i] = 1/(np.linalg.norm(Xbar_trans[i]))\n",
    "    Xbar_new = Xbar.dot(Matrix_Contraction)\n",
    "    return 1/N * Xbar_new.T.dot(Xbar_new.dot(w) - y.reshape(-1,1))"
   ]
  },
  {
   "cell_type": "code",
   "execution_count": 12,
   "id": "express-justice",
   "metadata": {},
   "outputs": [],
   "source": [
    "def Get_Matrix_Contraction(X,y):\n",
    "    Xbar = LeastSquareMatricsConcatenate(X)\n",
    "    N = Xbar.shape[0]\n",
    "    D = Xbar.shape[1] - 1\n",
    "    Matrix_Contraction = np.zeros((D+1,D+1))\n",
    "    Xbar_trans = Xbar.T\n",
    "    for i in range(D+1):\n",
    "        Matrix_Contraction[i,i] = 1/(np.linalg.norm(Xbar_trans[i]))\n",
    "    return Matrix_Contraction"
   ]
  },
  {
   "cell_type": "code",
   "execution_count": 38,
   "id": "buried-validation",
   "metadata": {},
   "outputs": [],
   "source": [
    "#Tìm vector w=[[b],[a]] với a,b là hệ số của linear regression y=aX+b\n",
    "#Có 4 Format \"normal\", \"momentum\", \"NAG\", \"stochastic\" nhằm tìm ra vector w, với mỗi Format có 1 đặc điểm riêng\n",
    "\n",
    "def fit(X_arrays, y_array, eta = 0.1, gamma = 0.9, TOL = 1.e-8, Format = \"normal\"):\n",
    "    \n",
    "    #X_arrays, y_array, Coef_Contraction =  ContractionMatric(X_arrays,y_array)\n",
    "    X_arrays = Format1DtoND(X_arrays)\n",
    "    y_array = np.array(y_array)\n",
    "    \n",
    "    Matrix_Contraction = Get_Matrix_Contraction(X_arrays,y_array)\n",
    "    \n",
    "    N = len(X_arrays[0])\n",
    "    w_init = np.concatenate((np.ones((1,1)),np.ones((N,1))),axis = 0)\n",
    "    w =[w_init]\n",
    "    gradient = GradientLeastSquare_Contrac\n",
    "    epochs = np.random.randint(100000,110000)\n",
    "    \n",
    "    if Format == \"normal\":\n",
    "        for it in range(epochs):\n",
    "            w_new = w[-1] - eta*gradient(X_arrays,y_array,w[-1])\n",
    "            grad = gradient(X_arrays, y_array, w_new)\n",
    "            if np.linalg.norm(grad)/len(w_new) < TOL:\n",
    "                break\n",
    "            w.append(w_new)\n",
    "            \n",
    "    elif Format == \"momentum\":\n",
    "        v_old = np.zeros_like(w_init)\n",
    "        for it in range(epochs):\n",
    "            v_new = gamma*v_old + eta*gradient(X_arrays,y_array,w[-1])\n",
    "            w_new = w[-1] - v_new\n",
    "            grad = gradient(X_arrays, y_array, w_new)\n",
    "            if np.linalg.norm(grad)/np.array(w_init).size < TOL:\n",
    "                break\n",
    "            w.append(w_new)\n",
    "            v_old = v_new\n",
    "            \n",
    "    elif Format == \"NAG\":\n",
    "        v = [np.zeros_like(w_init)]\n",
    "        for it in range(epochs):\n",
    "            v_new = gamma*v[-1] + eta*gradient(X_arrays, y_array, w[-1] - gamma*v[-1])\n",
    "            w_new = w[-1] - v_new\n",
    "            grad = gradient(X_arrays, y_array, w_new)\n",
    "            if np.linalg.norm(grad)/np.array(w_init).size < TOL:\n",
    "                break\n",
    "            w.append(w_new)\n",
    "            v.append(v_new)\n",
    "            \n",
    "    elif Format == \"stochastic\":\n",
    "        batch_size = np.random.randint(2,5)\n",
    "        for it in range(epochs):\n",
    "            permutation = np.random.permutation(N)\n",
    "            \n",
    "            for start in range(0, N, batch_size):\n",
    "                stop = start + batch_size\n",
    "                if stop > N:\n",
    "                    stop = N\n",
    "                X_per = X_arrays[permutation]\n",
    "                y_per = y_array[permutation]\n",
    "                w_new = w[-1] - eta*gradient(X_per,y_per,w[-1])\n",
    "                if np.all(np.abs(w_new) <= TOL):\n",
    "                    break\n",
    "                w.append(w_new)\n",
    "    w[-1] = Matrix_Contraction.dot(w[-1])\n",
    "    return w[-1]"
   ]
  },
  {
   "cell_type": "code",
   "execution_count": 39,
   "id": "sudden-tobacco",
   "metadata": {},
   "outputs": [],
   "source": [
    "# Trả giá trị a=coef và b=intercept của linear regression\n",
    "\n",
    "def fit_coef_intercept(X_train, y_train, eta=0.1, gamma =0.9, TOL=1.e-8, Format=\"normal\"):\n",
    "    w = fit(X_train, y_train, eta=eta, gamma=gamma, TOL=TOL, Format=Format)\n",
    "    b = w[0][0]\n",
    "    a = w[1:]\n",
    "    return a,b"
   ]
  },
  {
   "cell_type": "code",
   "execution_count": 40,
   "id": "intimate-blackjack",
   "metadata": {},
   "outputs": [],
   "source": [
    "# Sau khi tìm được các giá trị coef và intercept của linear regression\n",
    "# dựa trên các tập X_train, X_test,y_train, y_test ta dự đoán y_train_pred, y_test_pred\n",
    "# bằng cách: y_train_pred = a.X_train + b, y_test_pred = a.X_test + b\n",
    "\n",
    "def predict(X_train, X_test,y_train, y_test, eta=0.1, gamma=0.9, TOL=1.e-8, Format=\"normal\"):\n",
    "    \n",
    "    a,b = fit_coef_intercept(X_train=X_train, y_train=y_train, eta=eta, gamma=gamma, TOL=TOL, Format=Format)\n",
    "    \n",
    "    y_train_pred = a.T.dot(X_train.T) + b*np.ones((len(X_train),1)).T\n",
    "    y_test_pred = a.T.dot(X_test.T) + b*np.ones((len(X_test),1)).T\n",
    "    y_train_pred = y_train_pred[0]\n",
    "    y_test_pred = y_test_pred[0]\n",
    "    \n",
    "    return y_train_pred, y_test_pred"
   ]
  },
  {
   "cell_type": "code",
   "execution_count": 41,
   "id": "electronic-corner",
   "metadata": {},
   "outputs": [],
   "source": [
    "# Tính hệ số r2 giữa 2 array y_check và y_pred\n",
    "\n",
    "def r2_score(y_check,y_pred):\n",
    "    \n",
    "    y_pred = np.array(y_pred)\n",
    "    y_check = np.array(y_check)\n",
    "    n_check = len(y_check)\n",
    "    n_pred = len(y_pred)\n",
    "    \n",
    "    if (n_check != n_pred):\n",
    "        raise ValueError(\"The length of check values and previous values must be equal\")\n",
    "    else:\n",
    "        N = len(y_check)\n",
    "        ybar = 1/N * np.sum(y_check)\n",
    "        vector_tot = y_check - ybar*np.ones_like(y_check)\n",
    "        vector_res = y_pred - y_check\n",
    "        \n",
    "        SS_tot = np.sum(vector_tot*vector_tot)\n",
    "        SS_res = np.sum(vector_res*vector_res)\n",
    "        r2 = 1- SS_res/SS_tot\n",
    "    return r2"
   ]
  },
  {
   "cell_type": "code",
   "execution_count": 42,
   "id": "smart-nightlife",
   "metadata": {},
   "outputs": [],
   "source": [
    "def LinearRegressionPlot(X_train, X_test, y_train, y_test, eta = 0.1, gamma = 0.9, TOL = 1.e-8, Format=\"normal\"):\n",
    "    \n",
    "    if (type(X_train) == np.ndarray and X_train.ndim == 1) or (type(X_train) == np.ndarray and X_train.ndim > 1 and len(X_train[0])) == 1:\n",
    "        \n",
    "        plt.scatter(X_train, y_train, label='training set', color='red')\n",
    "        plt.scatter(X_test, y_test, label='testing set', color='blue')\n",
    "        \n",
    "        a,b = fit_coef_intercept(X_train, y_train, eta=eta, gamma=gamma, TOL=TOL, Format=Format)\n",
    "        y_train_real = np.dot(a,X_train.T)[0] +b*np.ones((len(X_train),1))[0]\n",
    "        y_test_real = np.dot(a,X_test.T)[0] +b*np.ones((len(X_test),1))[0]\n",
    "        \n",
    "        plt.plot(X_train,y_train_real, color='green', label='LinearRegression')\n",
    "        plt.plot(X_test,y_test_real, color='green')\n",
    "        \n",
    "        plt.xlabel('x-axis')\n",
    "        plt.ylabel('y-axis')\n",
    "        \n",
    "        plt.legend()\n",
    "        plt.show()\n",
    "    else:\n",
    "        raise ValueError('X must be a array that has one column')\n",
    "    \n",
    "    return"
   ]
  },
  {
   "cell_type": "code",
   "execution_count": 43,
   "id": "51b5b25a",
   "metadata": {},
   "outputs": [
    {
     "data": {
      "image/png": "[encoded data removed]",
      "text/plain": [
       "<Figure size 432x288 with 1 Axes>"
      ]
     },
     "metadata": {
      "needs_background": "light"
     },
     "output_type": "display_data"
    }
   ],
   "source": [
    "y = np.array([132,136,142,145,150,155,160,165,170,175,180,185,190,195,201,206,212,218,223,229,234])\n",
    "X = np.array(np.arange(60,81))\n",
    "w = fit(X, y, eta = 0.05, gamma = 0.9, TOL = 1.e-8, Format = \"NAG\")\n",
    "Y = w[1]*X + w[0]\n",
    "plt.scatter(X,y, color = \"red\")\n",
    "plt.plot(X,Y)\n",
    "plt.show()"
   ]
  },
  {
   "cell_type": "code",
   "execution_count": 46,
   "id": "2a6c5898",
   "metadata": {},
   "outputs": [
    {
     "data": {
      "image/png": "[encoded data removed]",
      "text/plain": [
       "<Figure size 432x288 with 1 Axes>"
      ]
     },
     "metadata": {
      "needs_background": "light"
     },
     "output_type": "display_data"
    }
   ],
   "source": [
    "h = np.array(np.arange(60,81))\n",
    "h_square = (h*h).reshape(-1,1)\n",
    "h_cube = (h*h*h).reshape(-1,1)\n",
    "X = np.concatenate((h_square,h_cube),axis = 1)\n",
    "y = np.array([132,136,142,145,150,155,160,165,170,175,180,185,190,195,201,206,212,218,223,229,234])\n",
    "w = fit(X, y, eta = 0.05, gamma = 0.9, TOL = 1.e-8, Format = \"NAG\")\n",
    "Y = w[0] + w[1]*(h**2) + w[2]*(h**3)\n",
    "plt.scatter(h,Y)\n",
    "plt.scatter(h,y, color = \"red\")\n",
    "plt.show()"
   ]
  },
  {
   "cell_type": "code",
   "execution_count": 23,
   "id": "hungarian-finnish",
   "metadata": {},
   "outputs": [
    {
     "data": {
      "text/plain": [
       "array([ 1,  8, 27], dtype=int32)"
      ]
     },
     "execution_count": 23,
     "metadata": {},
     "output_type": "execute_result"
    }
   ],
   "source": []
  },
  {
   "cell_type": "code",
   "execution_count": null,
   "id": "charming-sacrifice",
   "metadata": {},
   "outputs": [],
   "source": []
  }
 ],
 "metadata": {
  "kernelspec": {
   "display_name": "Python 3",
   "language": "python",
   "name": "python3"
  },
  "language_info": {
   "codemirror_mode": {
    "name": "ipython",
    "version": 3
   },
   "file_extension": ".py",
   "mimetype": "text/x-python",
   "name": "python",
   "nbconvert_exporter": "python",
   "pygments_lexer": "ipython3",
   "version": "3.9.4"
  }
 },
 "nbformat": 4,
 "nbformat_minor": 5
}
